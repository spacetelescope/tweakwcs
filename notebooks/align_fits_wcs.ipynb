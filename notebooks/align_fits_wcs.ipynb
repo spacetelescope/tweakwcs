{
 "cells": [
  {
   "cell_type": "markdown",
   "metadata": {},
   "source": [
    "# Aligning HST ACS/HRC Images Using `tweakwcs`"
   ]
  },
  {
   "cell_type": "markdown",
   "metadata": {},
   "source": [
    "***\n",
    "## About this Notebook\n",
    "**Author:** Mihai Cara, STScI\n",
    "<br>**Initial version on:** 11/20/2018\n",
    "<br>**Updated on:** 11/28/2018"
   ]
  },
  {
   "cell_type": "markdown",
   "metadata": {},
   "source": [
    "***\n",
    "## Introduction\n",
    "\n",
    "Often the World Coordinate System (WCS) of images may contain small errors. These alignment errors in the WCS of the images need to be removed before images can be further processed, e.g., before they can be combined into a mosaiced image. The images are said to be aligned (in a relative sense) _on the sky_ when image coordinates _of the same object_ (present in several images) can be converted aproximately the same sky coordinates (using appropriate image's WCS).\n",
    "\n",
    "In this notebook we illustrate how to create source catalogs using `photutils` package and then how to match sources from image catalogs and find aligned `WCS` using `tweakwcs` package."
   ]
  },
  {
   "cell_type": "markdown",
   "metadata": {},
   "source": [
    "***\n",
    "## Imports"
   ]
  },
  {
   "cell_type": "code",
   "execution_count": 1,
   "metadata": {},
   "outputs": [
    {
     "name": "stdout",
     "output_type": "stream",
     "text": [
      "The following task in the stsci.skypac package can be run with TEAL:\n",
      "                                    skymatch                                    \n",
      "The following tasks in the drizzlepac package can be run with TEAL:\n",
      "    astrodrizzle       imagefindpars           mapreg              photeq       \n",
      "     pixreplace           pixtopix            pixtosky        refimagefindpars  \n",
      "     resetbits          runastrodriz          skytopix           tweakback      \n",
      "      tweakreg           updatenpol\n"
     ]
    }
   ],
   "source": [
    "import shutil\n",
    "import glob\n",
    "import os\n",
    "import sys\n",
    "import logging\n",
    "\n",
    "import matplotlib.pyplot as plt\n",
    "from astropy.io import fits\n",
    "from astropy.nddata import NDData\n",
    "from astroquery.mast import Observations\n",
    "from photutils import detect_threshold, DAOStarFinder\n",
    "\n",
    "from stwcs.wcsutil import HSTWCS\n",
    "from drizzlepac import updatehdr\n",
    "\n",
    "from tweakwcs import tweak_wcs, tweak_image_wcs, FITSWCS, TPMatch"
   ]
  },
  {
   "cell_type": "markdown",
   "metadata": {},
   "source": [
    "***\n",
    "## Setup Logging\n",
    "\n",
    "Add basic support for loging to `stdout`:"
   ]
  },
  {
   "cell_type": "code",
   "execution_count": 2,
   "metadata": {},
   "outputs": [],
   "source": [
    "logger = logging.getLogger()\n",
    "handler = logging.StreamHandler(sys.stdout)\n",
    "logger.addHandler(handler)"
   ]
  },
  {
   "cell_type": "markdown",
   "metadata": {},
   "source": [
    "***\n",
    "## Download Data\n",
    "\n",
    "For this example, we have chosen HST ACS/WFC observation of NGC104 in the F606W filter. The data come from the SM3/ACS proposal 9019 _\"HRC flat field stability\"_ (PI: Ralph Bohlin).\n",
    "\n",
    "Data are downloaded using the `astroquery` API to access the [MAST](http://archive.stsci.edu) archive. The `astroquery.mast` [documentation](http://astroquery.readthedocs.io/en/latest/mast/mast.html) has more examples for how to find and download data from MAST."
   ]
  },
  {
   "cell_type": "code",
   "execution_count": 3,
   "metadata": {},
   "outputs": [
    {
     "name": "stdout",
     "output_type": "stream",
     "text": [
      "Downloading URL https://mast.stsci.edu/api/v0/download/file?uri=mast:HST/product/j8bt06nyq_flt.fits to ./mastDownload/HST/j8bt06nyq/j8bt06nyq_flt.fits ... [Done]\n",
      "Downloading URL https://mast.stsci.edu/api/v0/download/file?uri=mast:HST/product/j8bt06nzq_flt.fits to ./mastDownload/HST/j8bt06nzq/j8bt06nzq_flt.fits ... [Done]\n"
     ]
    }
   ],
   "source": [
    "# If mastDownload directory already exists, delete it\n",
    "# and all subdirectories it contains:\n",
    "if os.path.isdir('mastDownload'):\n",
    "    shutil.rmtree('mastDownload')\n",
    "\n",
    "# Retrieve the observation information.\n",
    "obs_table = Observations.query_criteria(obs_id='j8bt06*', filters='F606W', obstype='ALL')\n",
    "products = Observations.get_product_list(obs_table)\n",
    "\n",
    "# Download only the 'j8bt06nyq' and 'j8bt06nzq' images:\n",
    "Observations.download_products(products, mrp_only=False, obs_id=['j8bt06nyq', 'j8bt06nzq'],\n",
    "                               productSubGroupDescription=['FLC', 'FLT'], \n",
    "                               extension='fits')\n",
    "\n",
    "def copy_mast_to_cwd():\n",
    "    \"\"\"\n",
    "    Move the files from the mastDownload directory to the current working\n",
    "    directory and make a backup of the files. Return a list of image file\n",
    "    names in the CWD.\n",
    "    \n",
    "    \"\"\"\n",
    "    downloaded_fits_files = glob.glob('mastDownload/HST/j*/j*flt.fits')\n",
    "    fits_files = []\n",
    "    for fil in downloaded_fits_files:\n",
    "        base_name = os.path.basename(fil)\n",
    "        fits_files.append(base_name)\n",
    "        if os.path.isfile(base_name):\n",
    "            os.remove(base_name)\n",
    "        shutil.copy2(fil, '.')\n",
    "        \n",
    "    return fits_files\n",
    "\n",
    "fits_files = copy_mast_to_cwd()"
   ]
  },
  {
   "cell_type": "markdown",
   "metadata": {},
   "source": [
    "***\n",
    "## EXAMPLE 1: Simple Workflow to Align Two or More Images\n",
    "\n",
    "In this example we illustrate the use of convenience function `tweak_image_wcs()` to align two images downloaded in the previous step. "
   ]
  },
  {
   "cell_type": "markdown",
   "metadata": {},
   "source": [
    "### 1.1 Create NDData/CCDData objects"
   ]
  },
  {
   "cell_type": "code",
   "execution_count": 4,
   "metadata": {},
   "outputs": [
    {
     "name": "stdout",
     "output_type": "stream",
     "text": [
      "/Users/mcara/miniconda3/envs/pyrel/lib/python3.6/site-packages/astropy/wcs/wcs.py:2691: AstropyDeprecationWarning: \n",
      "Private attributes \"_naxis1\" and \"_naxis2\" have been deprecated since v3.1.\n",
      "Instead use the \"pixel_shape\" property which returns a list of NAXISj keyword values.\n",
      "\n",
      "  warnings.warn(NAXIS_DEPRECATE_MESSAGE, AstropyDeprecationWarning)\n",
      "\n",
      "/Users/mcara/miniconda3/envs/pyrel/lib/python3.6/site-packages/astropy/wcs/wcs.py:2701: AstropyDeprecationWarning: \n",
      "Private attributes \"_naxis1\" and \"_naxis2\" have been deprecated since v3.1.\n",
      "Instead use the \"pixel_shape\" property which returns a list of NAXISj keyword values.\n",
      "\n",
      "  warnings.warn(NAXIS_DEPRECATE_MESSAGE, AstropyDeprecationWarning)\n",
      "\n"
     ]
    }
   ],
   "source": [
    "images = []\n",
    "for group_id, file in enumerate(fits_files):\n",
    "    with fits.open(file) as hdulist:\n",
    "        im_data = hdulist[('SCI', 1)].data\n",
    "        dq_data = hdulist[('DQ', 1)].data\n",
    "        w = HSTWCS(hdulist, ('SCI', 1))\n",
    "        \n",
    "        # Below, simply consider non-zero DQ data as invalid.\n",
    "        # A more sophisticated approach would use bitmask module.\n",
    "        # Also, here we set group ID to a different number for each image,\n",
    "        # but for ACS images, for example, we likely would assign\n",
    "        # the same group ID to the images corresponding to different\n",
    "        # SCI extensions *of the same FITS file* so that they can be\n",
    "        # aligned together.\n",
    "        img = NDData(data=im_data, mask=dq_data != 0, wcs=w, meta={'group_id': group_id + 1})\n",
    "        images.append(img)"
   ]
  },
  {
   "cell_type": "markdown",
   "metadata": {},
   "source": [
    "### 1.2 Create Source Catalogs\n",
    "\n",
    "Here we use `photutils` package to find stars in the images. One can use any other tools star finding."
   ]
  },
  {
   "cell_type": "code",
   "execution_count": 5,
   "metadata": {},
   "outputs": [
    {
     "name": "stdout",
     "output_type": "stream",
     "text": [
      "Length of catalog #1: 1456\n",
      "Length of catalog #2: 1351\n"
     ]
    }
   ],
   "source": [
    "for catno, im in enumerate(images):\n",
    "    threshold = detect_threshold(im.data, snr=100.0)[0, 0]\n",
    "    daofind = DAOStarFinder(fwhm=2.5, threshold=threshold, exclude_border=True)\n",
    "    cat = daofind(im.data)\n",
    "    cat.rename_column('xcentroid', 'x')\n",
    "    cat.rename_column('ycentroid', 'y')\n",
    "    cat.meta['name'] = 'im{:d} sources'.format(catno + 1)\n",
    "    im.meta['catalog'] = cat\n",
    "    print(\"Length of catalog #{:d}: {:d}\".format(catno + 1, len(cat)))"
   ]
  },
  {
   "cell_type": "markdown",
   "metadata": {},
   "source": [
    "### 1.3 Align Images (Find Corrected WCS):"
   ]
  },
  {
   "cell_type": "code",
   "execution_count": 6,
   "metadata": {},
   "outputs": [
    {
     "name": "stdout",
     "output_type": "stream",
     "text": [
      " \n",
      "***** tweakwcs.imalign.tweak_image_wcs() started on 2019-01-24 02:16:08.617460\n",
      "      Version 0.4.0.dev (23-January-2019)\n",
      " \n",
      "/Users/mcara/miniconda3/envs/pyrel/lib/python3.6/site-packages/astropy/wcs/wcs.py:2691: AstropyDeprecationWarning: \n",
      "Private attributes \"_naxis1\" and \"_naxis2\" have been deprecated since v3.1.\n",
      "Instead use the \"pixel_shape\" property which returns a list of NAXISj keyword values.\n",
      "\n",
      "  warnings.warn(NAXIS_DEPRECATE_MESSAGE, AstropyDeprecationWarning)\n",
      "\n",
      "/Users/mcara/miniconda3/envs/pyrel/lib/python3.6/site-packages/astropy/wcs/wcs.py:2701: AstropyDeprecationWarning: \n",
      "Private attributes \"_naxis1\" and \"_naxis2\" have been deprecated since v3.1.\n",
      "Instead use the \"pixel_shape\" property which returns a list of NAXISj keyword values.\n",
      "\n",
      "  warnings.warn(NAXIS_DEPRECATE_MESSAGE, AstropyDeprecationWarning)\n",
      "\n",
      "Selected image 'GROUP ID: 1' as reference image\n",
      "Aligning image catalog 'GROUP ID: 2' to the reference catalog.\n",
      "Matching sources from 'Unnamed' catalog with sources from the reference 'Unnamed' catalog.\n",
      "Computing initial guess for X and Y shifts...\n",
      "Found initial X and Y shifts of -0.001242, -0.9988 with significance of 28.34 and 803.0 matches\n",
      "Found 807 matches for 'GROUP ID: 2'...\n",
      "Performing 'general' fit\n",
      "Computed 'general' fit for GROUP ID: 2:\n",
      "XSH: -0.441767  YSH: 0.673742    PROPER ROT: 359.999    \n",
      "<ROT>: 359.999  SKEW: 0.000890813    ROT_X: 359.999  ROT_Y: 360\n",
      "<SCALE>: 0.99999  SCALE_X: 0.999994  SCALE_Y: 0.999986\n",
      "\n",
      "FIT RMSE: 0.0847328   FIT MAE: 0.0727013\n",
      "Final solution based on 794 objects.\n",
      "/Users/mcara/miniconda3/envs/pyrel/lib/python3.6/site-packages/astropy/wcs/wcs.py:2691: AstropyDeprecationWarning: \n",
      "Private attributes \"_naxis1\" and \"_naxis2\" have been deprecated since v3.1.\n",
      "Instead use the \"pixel_shape\" property which returns a list of NAXISj keyword values.\n",
      "\n",
      "  warnings.warn(NAXIS_DEPRECATE_MESSAGE, AstropyDeprecationWarning)\n",
      "\n",
      "/Users/mcara/miniconda3/envs/pyrel/lib/python3.6/site-packages/astropy/wcs/wcs.py:2701: AstropyDeprecationWarning: \n",
      "Private attributes \"_naxis1\" and \"_naxis2\" have been deprecated since v3.1.\n",
      "Instead use the \"pixel_shape\" property which returns a list of NAXISj keyword values.\n",
      "\n",
      "  warnings.warn(NAXIS_DEPRECATE_MESSAGE, AstropyDeprecationWarning)\n",
      "\n",
      " \n",
      "***** tweakwcs.imalign.tweak_image_wcs() ended on 2019-01-24 02:16:08.917862\n",
      "***** tweakwcs.imalign.tweak_image_wcs() TOTAL RUN TIME: 0:00:00.300402\n",
      " \n"
     ]
    }
   ],
   "source": [
    "tweak_image_wcs(images)"
   ]
  },
  {
   "cell_type": "markdown",
   "metadata": {},
   "source": [
    "### 1.4 Update FITS File Headers with Aligned WCS"
   ]
  },
  {
   "cell_type": "code",
   "execution_count": 7,
   "metadata": {},
   "outputs": [],
   "source": [
    "for file, w in zip(fits_files, [im.wcs for im in images]):\n",
    "    with fits.open(file, mode='update') as hdulist:\n",
    "        updatehdr.update_wcs(hdulist, 1, w, wcsname='TWEAK', reusename=True, verbose=False)"
   ]
  },
  {
   "cell_type": "markdown",
   "metadata": {},
   "source": [
    "***\n",
    "## EXAMPLE 2: Customizable Workflow to Align Two or More Images or to Align to an External Reference Catalog\n",
    "\n",
    "In this example we show how to use lower-level functions to align two images. This approach allows significantly higher customization compared to the use of the convenience function `tweak_image_wcs()` from Example 1. In addition, this approach allows inspection and logging of intermediate results such as number of matched sources, their indices in the corresponding catalogs, linear fit results, fit residuals, etc."
   ]
  },
  {
   "cell_type": "markdown",
   "metadata": {},
   "source": [
    "### 2.1 Get a Fresh Copy of Data"
   ]
  },
  {
   "cell_type": "code",
   "execution_count": 8,
   "metadata": {},
   "outputs": [],
   "source": [
    "fits_files = copy_mast_to_cwd()"
   ]
  },
  {
   "cell_type": "markdown",
   "metadata": {},
   "source": [
    "### 2.2 Create Catalogs and Create a Telescope/Instrument-specific \"corrector\" WCS object\n",
    "\n",
    "Below we take the sources from the first image to create a \"reference\" catalog. Therefore this example can be used also for aligning images to _external_ \"reference\" catalogs. Since we are working with HST images that use FITS WCS, we will use `FITSWCS` tangent plane corrector specific to FITS WCS."
   ]
  },
  {
   "cell_type": "code",
   "execution_count": 9,
   "metadata": {},
   "outputs": [
    {
     "name": "stdout",
     "output_type": "stream",
     "text": [
      "/Users/mcara/miniconda3/envs/pyrel/lib/python3.6/site-packages/astropy/wcs/wcs.py:2691: AstropyDeprecationWarning: \n",
      "Private attributes \"_naxis1\" and \"_naxis2\" have been deprecated since v3.1.\n",
      "Instead use the \"pixel_shape\" property which returns a list of NAXISj keyword values.\n",
      "\n",
      "  warnings.warn(NAXIS_DEPRECATE_MESSAGE, AstropyDeprecationWarning)\n",
      "\n",
      "/Users/mcara/miniconda3/envs/pyrel/lib/python3.6/site-packages/astropy/wcs/wcs.py:2701: AstropyDeprecationWarning: \n",
      "Private attributes \"_naxis1\" and \"_naxis2\" have been deprecated since v3.1.\n",
      "Instead use the \"pixel_shape\" property which returns a list of NAXISj keyword values.\n",
      "\n",
      "  warnings.warn(NAXIS_DEPRECATE_MESSAGE, AstropyDeprecationWarning)\n",
      "\n",
      "Length of catalog #2: 1456\n",
      "/Users/mcara/miniconda3/envs/pyrel/lib/python3.6/site-packages/astropy/wcs/wcs.py:2691: AstropyDeprecationWarning: \n",
      "Private attributes \"_naxis1\" and \"_naxis2\" have been deprecated since v3.1.\n",
      "Instead use the \"pixel_shape\" property which returns a list of NAXISj keyword values.\n",
      "\n",
      "  warnings.warn(NAXIS_DEPRECATE_MESSAGE, AstropyDeprecationWarning)\n",
      "\n",
      "/Users/mcara/miniconda3/envs/pyrel/lib/python3.6/site-packages/astropy/wcs/wcs.py:2701: AstropyDeprecationWarning: \n",
      "Private attributes \"_naxis1\" and \"_naxis2\" have been deprecated since v3.1.\n",
      "Instead use the \"pixel_shape\" property which returns a list of NAXISj keyword values.\n",
      "\n",
      "  warnings.warn(NAXIS_DEPRECATE_MESSAGE, AstropyDeprecationWarning)\n",
      "\n",
      "Length of catalog #2: 1351\n"
     ]
    }
   ],
   "source": [
    "catalogs = []\n",
    "\n",
    "for group_id, file in enumerate(fits_files):\n",
    "    with fits.open(file) as hdulist:\n",
    "        im_data = hdulist[('SCI', 1)].data\n",
    "        dq_data = hdulist[('DQ', 1)].data\n",
    "        w = HSTWCS(hdulist, ('SCI', 1))\n",
    "        \n",
    "        # create FITS WCS corrector object\n",
    "        wcs_corrector = FITSWCS(w)\n",
    "        \n",
    "        # find stars:\n",
    "        threshold = detect_threshold(im_data, snr=100.0)[0, 0]\n",
    "        daofind = DAOStarFinder(fwhm=2.5, threshold=threshold, exclude_border=True)\n",
    "        cat = daofind(im_data)\n",
    "        cat.rename_column('xcentroid', 'x')\n",
    "        cat.rename_column('ycentroid', 'y')\n",
    "        cat.meta['name'] = 'im{:d} sources'.format(group_id + 1)\n",
    "        cat.meta['file_name'] = file\n",
    "        print(\"Length of catalog #{:d}: {:d}\".format(catno + 1, len(cat)))\n",
    "        \n",
    "        catalogs.append((cat, wcs_corrector))"
   ]
  },
  {
   "cell_type": "markdown",
   "metadata": {},
   "source": [
    "Create a \"reference\" catalog based on the first image's stars. A reference catalog must have star coordinates in world coordinates. When using external reference catalog, this step essentially can be skipped."
   ]
  },
  {
   "cell_type": "code",
   "execution_count": 10,
   "metadata": {},
   "outputs": [],
   "source": [
    "refcat, refwcs = catalogs.pop(0)\n",
    "refcat.meta['name'] = 'REFCAT ({})'.format(refcat.meta['name'])\n",
    "\n",
    "# convert image coordinates to sky coords:\n",
    "ra, dec = refwcs.det_to_world(refcat['x'], refcat['y'])\n",
    "refcat['RA'] = ra\n",
    "refcat['DEC'] = dec"
   ]
  },
  {
   "cell_type": "markdown",
   "metadata": {},
   "source": [
    "### 2.3 Match Catalogs and Align Image WCS"
   ]
  },
  {
   "cell_type": "code",
   "execution_count": 11,
   "metadata": {},
   "outputs": [
    {
     "name": "stdout",
     "output_type": "stream",
     "text": [
      "Matching sources from 'im2 sources' catalog with sources from the reference 'REFCAT (im1 sources)' catalog.\n",
      " \n",
      "***** tweakwcs.imalign.tweak_wcs() started on 2019-01-24 02:16:11.712691\n",
      "      Version 0.4.0.dev (23-January-2019)\n",
      " \n",
      "/Users/mcara/miniconda3/envs/pyrel/lib/python3.6/site-packages/astropy/wcs/wcs.py:2691: AstropyDeprecationWarning: \n",
      "Private attributes \"_naxis1\" and \"_naxis2\" have been deprecated since v3.1.\n",
      "Instead use the \"pixel_shape\" property which returns a list of NAXISj keyword values.\n",
      "\n",
      "  warnings.warn(NAXIS_DEPRECATE_MESSAGE, AstropyDeprecationWarning)\n",
      "\n",
      "/Users/mcara/miniconda3/envs/pyrel/lib/python3.6/site-packages/astropy/wcs/wcs.py:2701: AstropyDeprecationWarning: \n",
      "Private attributes \"_naxis1\" and \"_naxis2\" have been deprecated since v3.1.\n",
      "Instead use the \"pixel_shape\" property which returns a list of NAXISj keyword values.\n",
      "\n",
      "  warnings.warn(NAXIS_DEPRECATE_MESSAGE, AstropyDeprecationWarning)\n",
      "\n",
      "No matching of sources from 'im2 sources' catalog with sources from the reference 'im2 sources' catalog was requested.\n",
      "Catalogs are assumed matched with 1-to-1 correspondence.\n",
      "Found 823 matches for 'im2 sources'...\n",
      "Performing 'general' fit\n",
      "Computed 'general' fit for im2 sources:\n",
      "XSH: -0.441767  YSH: 0.673742    PROPER ROT: 359.999    \n",
      "<ROT>: 359.999  SKEW: 0.000890813    ROT_X: 359.999  ROT_Y: 360\n",
      "<SCALE>: 0.99999  SCALE_X: 0.999994  SCALE_Y: 0.999986\n",
      "\n",
      "FIT RMSE: 0.0847328   FIT MAE: 0.0727013\n",
      "Final solution based on 794 objects.\n",
      "/Users/mcara/miniconda3/envs/pyrel/lib/python3.6/site-packages/astropy/wcs/wcs.py:2691: AstropyDeprecationWarning: \n",
      "Private attributes \"_naxis1\" and \"_naxis2\" have been deprecated since v3.1.\n",
      "Instead use the \"pixel_shape\" property which returns a list of NAXISj keyword values.\n",
      "\n",
      "  warnings.warn(NAXIS_DEPRECATE_MESSAGE, AstropyDeprecationWarning)\n",
      "\n",
      "/Users/mcara/miniconda3/envs/pyrel/lib/python3.6/site-packages/astropy/wcs/wcs.py:2701: AstropyDeprecationWarning: \n",
      "Private attributes \"_naxis1\" and \"_naxis2\" have been deprecated since v3.1.\n",
      "Instead use the \"pixel_shape\" property which returns a list of NAXISj keyword values.\n",
      "\n",
      "  warnings.warn(NAXIS_DEPRECATE_MESSAGE, AstropyDeprecationWarning)\n",
      "\n",
      " \n",
      "***** tweakwcs.imalign.tweak_wcs() ended on 2019-01-24 02:16:11.834278\n",
      "***** tweakwcs.imalign.tweak_wcs() TOTAL RUN TIME: 0:00:00.121587\n",
      " \n"
     ]
    }
   ],
   "source": [
    "match = TPMatch(searchrad=5, separation=0.1, tolerance=5, use2dhist=False)\n",
    "\n",
    "for imcat, imwcs in catalogs:\n",
    "    # Match sources in the catalogs:\n",
    "    ridx, iidx = match(refcat, imcat, imwcs)\n",
    "    \n",
    "    # Align image WCS:\n",
    "    aligned_imwcs = tweak_wcs(refcat[ridx], imcat[iidx], imwcs).wcs\n",
    "    imcat.meta['aligned_wcs'] = aligned_imwcs"
   ]
  },
  {
   "cell_type": "markdown",
   "metadata": {},
   "source": [
    "### 2.4 Update FITS File Headers with Aligned WCS"
   ]
  },
  {
   "cell_type": "code",
   "execution_count": 12,
   "metadata": {},
   "outputs": [],
   "source": [
    "for cat, _ in catalogs:\n",
    "    with fits.open(cat.meta['file_name'], mode='update') as hdulist:\n",
    "        updatehdr.update_wcs(hdulist, 1, cat.meta['aligned_wcs'], wcsname='TWEAK', reusename=True, verbose=False)"
   ]
  },
  {
   "cell_type": "markdown",
   "metadata": {},
   "source": [
    "***\n",
    "## Delete Downloaded Data"
   ]
  },
  {
   "cell_type": "code",
   "execution_count": 13,
   "metadata": {},
   "outputs": [],
   "source": [
    "# Delete the mastDownload directory and all subdirectories it contains:\n",
    "if os.path.isdir('mastDownload'):\n",
    "    shutil.rmtree('mastDownload')"
   ]
  },
  {
   "cell_type": "code",
   "execution_count": null,
   "metadata": {},
   "outputs": [],
   "source": []
  }
 ],
 "metadata": {
  "kernelspec": {
   "display_name": "Python 3",
   "language": "python",
   "name": "python3"
  },
  "language_info": {
   "codemirror_mode": {
    "name": "ipython",
    "version": 3
   },
   "file_extension": ".py",
   "mimetype": "text/x-python",
   "name": "python",
   "nbconvert_exporter": "python",
   "pygments_lexer": "ipython3",
   "version": "3.6.8"
  }
 },
 "nbformat": 4,
 "nbformat_minor": 2
}
